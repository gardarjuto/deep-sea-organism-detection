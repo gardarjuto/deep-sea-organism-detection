{
 "cells": [
  {
   "cell_type": "markdown",
   "id": "1b6b25c9-2b36-435f-83ad-d73edb794cef",
   "metadata": {},
   "source": [
    "## Extracts a training set from dataset"
   ]
  },
  {
   "cell_type": "code",
   "execution_count": 1,
   "id": "0c13fc26-48d4-4d76-826a-8ad6088b0a96",
   "metadata": {},
   "outputs": [],
   "source": [
    "import os\n",
    "import shutil\n",
    "import random"
   ]
  },
  {
   "cell_type": "code",
   "execution_count": 4,
   "id": "0a8c21c6-81e5-4bf1-937c-ad97be346be7",
   "metadata": {},
   "outputs": [],
   "source": [
    "root = 'data/train'\n",
    "\n",
    "destination = '/media/gardar/Extra space/data3'\n",
    "random.seed(0)\n",
    "\n",
    "dataset_subset = 0.02 # Proportion of the full dataset to use\n",
    "\n",
    "test_split = 0.2"
   ]
  },
  {
   "cell_type": "code",
   "execution_count": 5,
   "id": "addbe9c9-9f82-4e9b-9d15-b531ae9d300e",
   "metadata": {},
   "outputs": [],
   "source": [
    "imgs = list(sorted(os.listdir(os.path.join(root, 'images'))))\n",
    "anns = list(sorted(os.listdir(os.path.join(root, 'annotations'))))\n",
    "assert len(imgs) == len(anns)\n",
    "\n",
    "zipped_pairs = list(zip(imgs, anns))"
   ]
  },
  {
   "cell_type": "code",
   "execution_count": 6,
   "id": "1270ac2e-7b4b-472f-992a-3aded65c3eb3",
   "metadata": {},
   "outputs": [],
   "source": [
    "random.shuffle(zipped_pairs)"
   ]
  },
  {
   "cell_type": "code",
   "execution_count": 7,
   "id": "2a6870be-e8e4-45ba-b533-343221454ee9",
   "metadata": {},
   "outputs": [],
   "source": [
    "test_stop_i = int(len(zipped_pairs) * dataset_subset * test_split)\n",
    "train_stop_i = int(len(zipped_pairs) * dataset_subset)\n",
    "\n",
    "if not os.path.isdir(os.path.join(destination, 'train', 'images')):\n",
    "    os.makedirs(os.path.join(destination, 'train', 'images'))\n",
    "if not os.path.isdir(os.path.join(destination, 'train', 'annotations')):\n",
    "    os.makedirs(os.path.join(destination, 'train', 'annotations'))\n",
    "if not os.path.isdir(os.path.join(destination, 'test', 'images')):\n",
    "    os.makedirs(os.path.join(destination, 'test', 'images'))\n",
    "if not os.path.isdir(os.path.join(destination, 'test', 'annotations')):\n",
    "    os.makedirs(os.path.join(destination, 'test', 'annotations'))\n",
    "\n",
    "for i in range(test_stop_i):\n",
    "    shutil.copyfile(os.path.join(root, 'images', zipped_pairs[i][0]), \n",
    "                os.path.join(destination, 'test', 'images', zipped_pairs[i][0]))\n",
    "    shutil.copyfile(os.path.join(root, 'annotations', zipped_pairs[i][1]), \n",
    "                os.path.join(destination, 'test', 'annotations', zipped_pairs[i][1]))\n",
    "    \n",
    "for i in range(test_stop_i, train_stop_i):\n",
    "    shutil.copyfile(os.path.join(root, 'images', zipped_pairs[i][0]), \n",
    "                os.path.join(destination, 'train', 'images', zipped_pairs[i][0]))\n",
    "    shutil.copyfile(os.path.join(root, 'annotations', zipped_pairs[i][1]), \n",
    "                os.path.join(destination, 'train', 'annotations', zipped_pairs[i][1]))"
   ]
  },
  {
   "cell_type": "code",
   "execution_count": null,
   "id": "849ca00b-5f91-447b-9ce8-024f9bb20a59",
   "metadata": {},
   "outputs": [],
   "source": []
  }
 ],
 "metadata": {
  "kernelspec": {
   "display_name": "Python 3 (ipykernel)",
   "language": "python",
   "name": "python3"
  },
  "language_info": {
   "codemirror_mode": {
    "name": "ipython",
    "version": 3
   },
   "file_extension": ".py",
   "mimetype": "text/x-python",
   "name": "python",
   "nbconvert_exporter": "python",
   "pygments_lexer": "ipython3",
   "version": "3.8.12"
  }
 },
 "nbformat": 4,
 "nbformat_minor": 5
}
