{
 "cells": [
  {
   "cell_type": "markdown",
   "id": "9aaa3845-7cfa-4541-b325-8bfbd1ed3e06",
   "metadata": {},
   "source": [
    "# Datasets\n",
    "**Description:** This file contains code for defining custom datasets for FathomNet\\\n",
    "**Author:** Garðar Ingvarsson\\\n",
    "**Email:** gi241@cam.ac.uk\n",
    "---"
   ]
  },
  {
   "cell_type": "code",
   "execution_count": 1,
   "id": "46042df1-77c8-4bdc-9ee7-1b9b2b35e20a",
   "metadata": {},
   "outputs": [],
   "source": [
    "import torch\n",
    "import os\n",
    "import numpy as np\n",
    "import json\n",
    "from PIL import Image\n",
    "import xml.etree.ElementTree as ET\n",
    "import sys\n",
    "from pathlib import Path\n",
    "import matplotlib.pyplot as plt\n",
    "\n",
    "sys.path.append(os.path.join(Path(os.path.abspath('')).parent, 'utils'))\n",
    "\n",
    "from fathomnethelper import Taxonomicon"
   ]
  },
  {
   "cell_type": "code",
   "execution_count": 2,
   "id": "57e5c7bb-563d-4bb4-82aa-4bb72ae6e8c0",
   "metadata": {},
   "outputs": [],
   "source": [
    "class FathomNetDataset(torch.utils.data.Dataset):\n",
    "    def __init__(self, root, transforms):\n",
    "        self.root = root\n",
    "        self.transforms = transforms\n",
    "        self.imgs = list(sorted(os.listdir(os.path.join(root, 'images'))))\n",
    "        self.anns = list(sorted(os.listdir(os.path.join(root, 'annotations'))))\n",
    "\n",
    "    def __getitem__(self, idx):\n",
    "        img_path = os.path.join(self.root, 'images', self.imgs[idx])\n",
    "        ann_path = os.path.join(self.root, 'annotations', self.anns[idx])\n",
    "        img = Image.open(img_path).convert('RGB')\n",
    "        ann_tree = ET.parse(ann_path)\n",
    "        root = ann_tree.getroot()\n",
    "        names = []\n",
    "        boxes = []\n",
    "        for box in root.iter('object'):\n",
    "            name = box.find('name').text\n",
    "            xmin = int(box.find('bndbox/xmin').text)\n",
    "            ymin = int(box.find('bndbox/ymin').text)\n",
    "            xmax = int(box.find('bndbox/xmax').text)\n",
    "            ymax = int(box.find('bndbox/ymax').text)\n",
    "            names.append(name)\n",
    "            boxes.append([xmin, ymin, xmax, ymax])\n",
    "\n",
    "        boxes = torch.as_tensor(boxes, dtype=torch.float32)\n",
    "        labels = torch.ones((len(boxes),), dtype=torch.int64)\n",
    "        image_id = torch.tensor([idx])\n",
    "\n",
    "        target = {}\n",
    "        target['boxes'] = boxes\n",
    "        target['labels'] = labels\n",
    "        target['image_id'] = image_id\n",
    "\n",
    "        if self.transforms is not None:\n",
    "            img, target = self.transforms(img, target)\n",
    "\n",
    "        return img, target\n",
    "\n",
    "    def __len__(self):\n",
    "        return len(self.imgs)\n",
    "    \n",
    "    \n",
    "class FathomNetCroppedDataset(torch.utils.data.Dataset):\n",
    "    def __init__(self, root, rank, top_n, transforms=None):\n",
    "        self.root = root\n",
    "        self.transforms = transforms\n",
    "        imgs = list(sorted(os.listdir(os.path.join(root, 'images'))))\n",
    "        tax = Taxonomicon()\n",
    "        \n",
    "        concepts_at_rank = tax.get_concepts_at_rank(rank)\n",
    "        subtrees_of_each_class = {concept: set(tax.get_subtree_nodes(concept)) for concept in concepts_at_rank}\n",
    "        imgs_and_boxes = {concept: [] for concept in concepts_at_rank}\n",
    "        \n",
    "        for img in imgs:\n",
    "            ann_tree = ET.parse(os.path.join(root, 'annotations', os.path.splitext(img)[0] + '.xml'))\n",
    "            tree_root = ann_tree.getroot()\n",
    "            for box in tree_root.iter('object'):\n",
    "                name = box.find('name').text\n",
    "                for clss in subtrees_of_each_class:\n",
    "                    if name in subtrees_of_each_class[clss]:\n",
    "                        xmin = int(box.find('bndbox/xmin').text)\n",
    "                        ymin = int(box.find('bndbox/ymin').text)\n",
    "                        xmax = int(box.find('bndbox/xmax').text)\n",
    "                        ymax = int(box.find('bndbox/ymax').text)\n",
    "                        imgs_and_boxes[clss].append((img, (xmin, ymin, xmax, ymax)))\n",
    "        \n",
    "        filtered = sorted(imgs_and_boxes.items(), key=lambda item: (len(item[1]), item[0]), reverse=True)[:top_n]\n",
    "        self.boxes = []\n",
    "        self.labels = []\n",
    "        self.class_names = []\n",
    "        for name, boxes in filtered:\n",
    "            self.class_names.append(name)\n",
    "            for box in boxes:\n",
    "                self.boxes.append(box)\n",
    "                self.labels.append(len(self.class_names))  # Map class names to integers\n",
    "                \n",
    "                \n",
    "    def __len__(self):\n",
    "        return len(self.labels)\n",
    "    \n",
    "    \n",
    "    def __getitem__(self, idx):\n",
    "        img_path = os.path.join(self.root, 'images', self.boxes[idx][0])\n",
    "        box = self.boxes[idx][1]\n",
    "        label = self.labels[idx]\n",
    "        img = Image.open(img_path).convert('RGB').crop(box)\n",
    "        label = torch.tensor([label])\n",
    "\n",
    "        if self.transforms is not None:\n",
    "            img = self.transforms(img)\n",
    "\n",
    "        return img, label\n",
    "\n"
   ]
  },
  {
   "cell_type": "code",
   "execution_count": 7,
   "id": "ccc2aae0-fe48-45e9-9037-ca2c47eff0a7",
   "metadata": {},
   "outputs": [
    {
     "name": "stdout",
     "output_type": "stream",
     "text": [
      "0 tensor([1])\n"
     ]
    },
    {
     "data": {
      "image/png": "[encoded data removed]",
      "text/plain": [
       "<Figure size 432x288 with 1 Axes>"
      ]
     },
     "metadata": {
      "needs_background": "light"
     },
     "output_type": "display_data"
    },
    {
     "name": "stdout",
     "output_type": "stream",
     "text": [
      "1 tensor([1])\n"
     ]
    },
    {
     "data": {
      "image/png": "[encoded data removed]",
      "text/plain": [
       "<Figure size 432x288 with 1 Axes>"
      ]
     },
     "metadata": {
      "needs_background": "light"
     },
     "output_type": "display_data"
    },
    {
     "name": "stdout",
     "output_type": "stream",
     "text": [
      "2 tensor([1])\n"
     ]
    },
    {
     "data": {
      "image/png": "[encoded data removed]",
      "text/plain": [
       "<Figure size 432x288 with 1 Axes>"
      ]
     },
     "metadata": {
      "needs_background": "light"
     },
     "output_type": "display_data"
    },
    {
     "name": "stdout",
     "output_type": "stream",
     "text": [
      "3 tensor([1])\n"
     ]
    },
    {
     "data": {
      "image/png": "[encoded data removed]",
      "text/plain": [
       "<Figure size 432x288 with 1 Axes>"
      ]
     },
     "metadata": {
      "needs_background": "light"
     },
     "output_type": "display_data"
    }
   ],
   "source": [
    "#dataset = FathomNetCroppedDataset(root='/home/gardar/PycharmProjects/deep-sea-organism-detection/data', rank='family', top_n=3) \n",
    "    \n",
    "\n",
    "fig = plt.figure()\n",
    "\n",
    "for i in range(4):\n",
    "    im, label = dataset[i]\n",
    "\n",
    "    print(i, label)\n",
    "\n",
    "    ax = plt.subplot(1, 4, i + 1)\n",
    "    plt.tight_layout()\n",
    "    ax.set_title('Sample #{}'.format(i))\n",
    "    ax.axis('off')\n",
    "    plt.imshow(im)\n",
    "    plt.pause(0.01)\n",
    "\n",
    "    if i == 3:\n",
    "        plt.show()\n",
    "        break"
   ]
  },
  {
   "cell_type": "code",
   "execution_count": 4,
   "id": "7229293d-28ee-4057-81bd-b326401585da",
   "metadata": {},
   "outputs": [],
   "source": [
    "tree = ET.parse('/home/gardar/PycharmProjects/deep-sea-organism-detection/data/annotations/00003a28-8896-4bf9-95df-e57dc08c772e.xml')"
   ]
  },
  {
   "cell_type": "code",
   "execution_count": 5,
   "id": "452ea4e6-fd3a-4772-9989-f91c1ca3d126",
   "metadata": {},
   "outputs": [],
   "source": [
    "root = tree.getroot()"
   ]
  },
  {
   "cell_type": "code",
   "execution_count": 6,
   "id": "3fc3a9f0-6607-4f83-b09b-acd6e622f9a5",
   "metadata": {},
   "outputs": [
    {
     "data": {
      "text/plain": [
       "<Element 'annotation' at 0x7f707c168d60>"
      ]
     },
     "execution_count": 6,
     "metadata": {},
     "output_type": "execute_result"
    }
   ],
   "source": [
    "root"
   ]
  },
  {
   "cell_type": "code",
   "execution_count": null,
   "id": "0d98b006-c4ef-4d79-b580-133425258ea2",
   "metadata": {},
   "outputs": [],
   "source": []
  },
  {
   "cell_type": "code",
   "execution_count": null,
   "id": "66d32e56-9874-40cb-b449-2ead7fd281de",
   "metadata": {},
   "outputs": [],
   "source": []
  }
 ],
 "metadata": {
  "kernelspec": {
   "display_name": "Python 3 (ipykernel)",
   "language": "python",
   "name": "python3"
  },
  "language_info": {
   "codemirror_mode": {
    "name": "ipython",
    "version": 3
   },
   "file_extension": ".py",
   "mimetype": "text/x-python",
   "name": "python",
   "nbconvert_exporter": "python",
   "pygments_lexer": "ipython3",
   "version": "3.8.12"
  }
 },
 "nbformat": 4,
 "nbformat_minor": 5
}
